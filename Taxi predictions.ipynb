{
 "cells": [
  {
   "cell_type": "markdown",
   "id": "439d603e",
   "metadata": {},
   "source": [
    "# Taxi Fare Prediction"
   ]
  },
  {
   "cell_type": "markdown",
   "id": "049f3576",
   "metadata": {},
   "source": [
    "## Importing Libraries"
   ]
  },
  {
   "cell_type": "code",
   "execution_count": 162,
   "id": "b848766c",
   "metadata": {},
   "outputs": [],
   "source": [
    "import numpy as np \n",
    "import pandas as pd  \n",
    "import matplotlib.pyplot as plt \n",
    "%matplotlib inline \n",
    "import seaborn as sns\n",
    "from sklearn.model_selection import train_test_split \n",
    "from sklearn.linear_model import LinearRegression"
   ]
  },
  {
   "cell_type": "markdown",
   "id": "8790f0b2",
   "metadata": {},
   "source": [
    "## Load and review data"
   ]
  },
  {
   "cell_type": "code",
   "execution_count": 163,
   "id": "1065f5dc",
   "metadata": {},
   "outputs": [],
   "source": [
    "df= pd.read_csv(\"https://raw.githubusercontent.com/Premalatha-success/Datasets/main/TaxiFare.csv\")"
   ]
  },
  {
   "cell_type": "code",
   "execution_count": 164,
   "id": "4964ac31",
   "metadata": {},
   "outputs": [
    {
     "data": {
      "text/plain": [
       "(50000, 8)"
      ]
     },
     "execution_count": 164,
     "metadata": {},
     "output_type": "execute_result"
    }
   ],
   "source": [
    "df.shape"
   ]
  },
  {
   "cell_type": "code",
   "execution_count": 165,
   "id": "295afe24",
   "metadata": {},
   "outputs": [
    {
     "name": "stdout",
     "output_type": "stream",
     "text": [
      "<class 'pandas.core.frame.DataFrame'>\n",
      "RangeIndex: 50000 entries, 0 to 49999\n",
      "Data columns (total 8 columns):\n",
      " #   Column                Non-Null Count  Dtype  \n",
      "---  ------                --------------  -----  \n",
      " 0   unique_id             50000 non-null  object \n",
      " 1   amount                50000 non-null  float64\n",
      " 2   date_time_of_pickup   50000 non-null  object \n",
      " 3   longitude_of_pickup   50000 non-null  float64\n",
      " 4   latitude_of_pickup    50000 non-null  float64\n",
      " 5   longitude_of_dropoff  50000 non-null  float64\n",
      " 6   latitude_of_dropoff   50000 non-null  float64\n",
      " 7   no_of_passenger       50000 non-null  int64  \n",
      "dtypes: float64(5), int64(1), object(2)\n",
      "memory usage: 3.1+ MB\n"
     ]
    }
   ],
   "source": [
    "df.info()"
   ]
  },
  {
   "cell_type": "code",
   "execution_count": 166,
   "id": "ac013e3c",
   "metadata": {},
   "outputs": [
    {
     "data": {
      "text/html": [
       "<div>\n",
       "<style scoped>\n",
       "    .dataframe tbody tr th:only-of-type {\n",
       "        vertical-align: middle;\n",
       "    }\n",
       "\n",
       "    .dataframe tbody tr th {\n",
       "        vertical-align: top;\n",
       "    }\n",
       "\n",
       "    .dataframe thead th {\n",
       "        text-align: right;\n",
       "    }\n",
       "</style>\n",
       "<table border=\"1\" class=\"dataframe\">\n",
       "  <thead>\n",
       "    <tr style=\"text-align: right;\">\n",
       "      <th></th>\n",
       "      <th>unique_id</th>\n",
       "      <th>amount</th>\n",
       "      <th>date_time_of_pickup</th>\n",
       "      <th>longitude_of_pickup</th>\n",
       "      <th>latitude_of_pickup</th>\n",
       "      <th>longitude_of_dropoff</th>\n",
       "      <th>latitude_of_dropoff</th>\n",
       "      <th>no_of_passenger</th>\n",
       "    </tr>\n",
       "  </thead>\n",
       "  <tbody>\n",
       "    <tr>\n",
       "      <th>27197</th>\n",
       "      <td>37:01.0</td>\n",
       "      <td>10.1</td>\n",
       "      <td>2011-09-26 21:37:01 UTC</td>\n",
       "      <td>-74.001228</td>\n",
       "      <td>40.727704</td>\n",
       "      <td>-73.980967</td>\n",
       "      <td>40.763711</td>\n",
       "      <td>4</td>\n",
       "    </tr>\n",
       "    <tr>\n",
       "      <th>43687</th>\n",
       "      <td>46:12.0</td>\n",
       "      <td>5.5</td>\n",
       "      <td>2014-09-09 19:46:12 UTC</td>\n",
       "      <td>-73.970559</td>\n",
       "      <td>40.759946</td>\n",
       "      <td>-73.962560</td>\n",
       "      <td>40.765392</td>\n",
       "      <td>1</td>\n",
       "    </tr>\n",
       "    <tr>\n",
       "      <th>45092</th>\n",
       "      <td>48:00.0</td>\n",
       "      <td>5.7</td>\n",
       "      <td>2012-08-18 18:48:00 UTC</td>\n",
       "      <td>-73.976480</td>\n",
       "      <td>40.752320</td>\n",
       "      <td>-73.975555</td>\n",
       "      <td>40.744557</td>\n",
       "      <td>5</td>\n",
       "    </tr>\n",
       "    <tr>\n",
       "      <th>39555</th>\n",
       "      <td>29:00.0</td>\n",
       "      <td>5.7</td>\n",
       "      <td>2010-01-15 20:29:00 UTC</td>\n",
       "      <td>-73.974798</td>\n",
       "      <td>40.762492</td>\n",
       "      <td>-73.959555</td>\n",
       "      <td>40.767593</td>\n",
       "      <td>1</td>\n",
       "    </tr>\n",
       "    <tr>\n",
       "      <th>30958</th>\n",
       "      <td>52:50.0</td>\n",
       "      <td>36.8</td>\n",
       "      <td>2012-10-22 13:52:50 UTC</td>\n",
       "      <td>-73.992410</td>\n",
       "      <td>40.756726</td>\n",
       "      <td>-73.865039</td>\n",
       "      <td>40.770520</td>\n",
       "      <td>2</td>\n",
       "    </tr>\n",
       "    <tr>\n",
       "      <th>16387</th>\n",
       "      <td>25:06.0</td>\n",
       "      <td>11.0</td>\n",
       "      <td>2015-05-20 09:25:06 UTC</td>\n",
       "      <td>-73.979530</td>\n",
       "      <td>40.781456</td>\n",
       "      <td>-73.964905</td>\n",
       "      <td>40.808636</td>\n",
       "      <td>3</td>\n",
       "    </tr>\n",
       "    <tr>\n",
       "      <th>3083</th>\n",
       "      <td>46:00.0</td>\n",
       "      <td>6.5</td>\n",
       "      <td>2014-06-14 17:46:00 UTC</td>\n",
       "      <td>-73.973490</td>\n",
       "      <td>40.748092</td>\n",
       "      <td>-73.975563</td>\n",
       "      <td>40.760400</td>\n",
       "      <td>2</td>\n",
       "    </tr>\n",
       "    <tr>\n",
       "      <th>17578</th>\n",
       "      <td>07:00.0</td>\n",
       "      <td>18.0</td>\n",
       "      <td>2014-07-30 22:07:00 UTC</td>\n",
       "      <td>-74.005362</td>\n",
       "      <td>40.721962</td>\n",
       "      <td>-73.949838</td>\n",
       "      <td>40.710347</td>\n",
       "      <td>1</td>\n",
       "    </tr>\n",
       "    <tr>\n",
       "      <th>19492</th>\n",
       "      <td>04:23.0</td>\n",
       "      <td>9.5</td>\n",
       "      <td>2012-09-06 15:04:23 UTC</td>\n",
       "      <td>-73.992616</td>\n",
       "      <td>40.748426</td>\n",
       "      <td>-73.978278</td>\n",
       "      <td>40.751265</td>\n",
       "      <td>1</td>\n",
       "    </tr>\n",
       "    <tr>\n",
       "      <th>6014</th>\n",
       "      <td>28:00.0</td>\n",
       "      <td>16.1</td>\n",
       "      <td>2012-06-02 20:28:00 UTC</td>\n",
       "      <td>-73.956340</td>\n",
       "      <td>40.818567</td>\n",
       "      <td>-73.990387</td>\n",
       "      <td>40.755797</td>\n",
       "      <td>1</td>\n",
       "    </tr>\n",
       "  </tbody>\n",
       "</table>\n",
       "</div>"
      ],
      "text/plain": [
       "      unique_id  amount      date_time_of_pickup  longitude_of_pickup  \\\n",
       "27197   37:01.0    10.1  2011-09-26 21:37:01 UTC           -74.001228   \n",
       "43687   46:12.0     5.5  2014-09-09 19:46:12 UTC           -73.970559   \n",
       "45092   48:00.0     5.7  2012-08-18 18:48:00 UTC           -73.976480   \n",
       "39555   29:00.0     5.7  2010-01-15 20:29:00 UTC           -73.974798   \n",
       "30958   52:50.0    36.8  2012-10-22 13:52:50 UTC           -73.992410   \n",
       "16387   25:06.0    11.0  2015-05-20 09:25:06 UTC           -73.979530   \n",
       "3083    46:00.0     6.5  2014-06-14 17:46:00 UTC           -73.973490   \n",
       "17578   07:00.0    18.0  2014-07-30 22:07:00 UTC           -74.005362   \n",
       "19492   04:23.0     9.5  2012-09-06 15:04:23 UTC           -73.992616   \n",
       "6014    28:00.0    16.1  2012-06-02 20:28:00 UTC           -73.956340   \n",
       "\n",
       "       latitude_of_pickup  longitude_of_dropoff  latitude_of_dropoff  \\\n",
       "27197           40.727704            -73.980967            40.763711   \n",
       "43687           40.759946            -73.962560            40.765392   \n",
       "45092           40.752320            -73.975555            40.744557   \n",
       "39555           40.762492            -73.959555            40.767593   \n",
       "30958           40.756726            -73.865039            40.770520   \n",
       "16387           40.781456            -73.964905            40.808636   \n",
       "3083            40.748092            -73.975563            40.760400   \n",
       "17578           40.721962            -73.949838            40.710347   \n",
       "19492           40.748426            -73.978278            40.751265   \n",
       "6014            40.818567            -73.990387            40.755797   \n",
       "\n",
       "       no_of_passenger  \n",
       "27197                4  \n",
       "43687                1  \n",
       "45092                5  \n",
       "39555                1  \n",
       "30958                2  \n",
       "16387                3  \n",
       "3083                 2  \n",
       "17578                1  \n",
       "19492                1  \n",
       "6014                 1  "
      ]
     },
     "execution_count": 166,
     "metadata": {},
     "output_type": "execute_result"
    }
   ],
   "source": [
    "df.sample(10)"
   ]
  },
  {
   "cell_type": "code",
   "execution_count": 167,
   "id": "8f364f4a",
   "metadata": {},
   "outputs": [
    {
     "data": {
      "text/html": [
       "<div>\n",
       "<style scoped>\n",
       "    .dataframe tbody tr th:only-of-type {\n",
       "        vertical-align: middle;\n",
       "    }\n",
       "\n",
       "    .dataframe tbody tr th {\n",
       "        vertical-align: top;\n",
       "    }\n",
       "\n",
       "    .dataframe thead th {\n",
       "        text-align: right;\n",
       "    }\n",
       "</style>\n",
       "<table border=\"1\" class=\"dataframe\">\n",
       "  <thead>\n",
       "    <tr style=\"text-align: right;\">\n",
       "      <th></th>\n",
       "      <th>amount</th>\n",
       "      <th>longitude_of_pickup</th>\n",
       "      <th>latitude_of_pickup</th>\n",
       "      <th>longitude_of_dropoff</th>\n",
       "      <th>latitude_of_dropoff</th>\n",
       "      <th>no_of_passenger</th>\n",
       "    </tr>\n",
       "  </thead>\n",
       "  <tbody>\n",
       "    <tr>\n",
       "      <th>0</th>\n",
       "      <td>4.5</td>\n",
       "      <td>-73.844311</td>\n",
       "      <td>40.721319</td>\n",
       "      <td>-73.841610</td>\n",
       "      <td>40.712278</td>\n",
       "      <td>1</td>\n",
       "    </tr>\n",
       "    <tr>\n",
       "      <th>1</th>\n",
       "      <td>16.9</td>\n",
       "      <td>-74.016048</td>\n",
       "      <td>40.711303</td>\n",
       "      <td>-73.979268</td>\n",
       "      <td>40.782004</td>\n",
       "      <td>1</td>\n",
       "    </tr>\n",
       "    <tr>\n",
       "      <th>2</th>\n",
       "      <td>5.7</td>\n",
       "      <td>-73.982738</td>\n",
       "      <td>40.761270</td>\n",
       "      <td>-73.991242</td>\n",
       "      <td>40.750562</td>\n",
       "      <td>2</td>\n",
       "    </tr>\n",
       "    <tr>\n",
       "      <th>3</th>\n",
       "      <td>7.7</td>\n",
       "      <td>-73.987130</td>\n",
       "      <td>40.733143</td>\n",
       "      <td>-73.991567</td>\n",
       "      <td>40.758092</td>\n",
       "      <td>1</td>\n",
       "    </tr>\n",
       "    <tr>\n",
       "      <th>4</th>\n",
       "      <td>5.3</td>\n",
       "      <td>-73.968095</td>\n",
       "      <td>40.768008</td>\n",
       "      <td>-73.956655</td>\n",
       "      <td>40.783762</td>\n",
       "      <td>1</td>\n",
       "    </tr>\n",
       "  </tbody>\n",
       "</table>\n",
       "</div>"
      ],
      "text/plain": [
       "   amount  longitude_of_pickup  latitude_of_pickup  longitude_of_dropoff  \\\n",
       "0     4.5           -73.844311           40.721319            -73.841610   \n",
       "1    16.9           -74.016048           40.711303            -73.979268   \n",
       "2     5.7           -73.982738           40.761270            -73.991242   \n",
       "3     7.7           -73.987130           40.733143            -73.991567   \n",
       "4     5.3           -73.968095           40.768008            -73.956655   \n",
       "\n",
       "   latitude_of_dropoff  no_of_passenger  \n",
       "0            40.712278                1  \n",
       "1            40.782004                1  \n",
       "2            40.750562                2  \n",
       "3            40.758092                1  \n",
       "4            40.783762                1  "
      ]
     },
     "execution_count": 167,
     "metadata": {},
     "output_type": "execute_result"
    }
   ],
   "source": [
    "df = df.drop(labels=['unique_id','date_time_of_pickup'], axis=1)\n",
    "df.head()"
   ]
  },
  {
   "cell_type": "markdown",
   "id": "16ce60e7",
   "metadata": {},
   "source": [
    "## Dealing with Missing Values"
   ]
  },
  {
   "cell_type": "code",
   "execution_count": 168,
   "id": "3d89475f",
   "metadata": {},
   "outputs": [
    {
     "data": {
      "text/html": [
       "<div>\n",
       "<style scoped>\n",
       "    .dataframe tbody tr th:only-of-type {\n",
       "        vertical-align: middle;\n",
       "    }\n",
       "\n",
       "    .dataframe tbody tr th {\n",
       "        vertical-align: top;\n",
       "    }\n",
       "\n",
       "    .dataframe thead th {\n",
       "        text-align: right;\n",
       "    }\n",
       "</style>\n",
       "<table border=\"1\" class=\"dataframe\">\n",
       "  <thead>\n",
       "    <tr style=\"text-align: right;\">\n",
       "      <th></th>\n",
       "      <th>amount</th>\n",
       "      <th>longitude_of_pickup</th>\n",
       "      <th>latitude_of_pickup</th>\n",
       "      <th>longitude_of_dropoff</th>\n",
       "      <th>latitude_of_dropoff</th>\n",
       "      <th>no_of_passenger</th>\n",
       "    </tr>\n",
       "  </thead>\n",
       "  <tbody>\n",
       "    <tr>\n",
       "      <th>count</th>\n",
       "      <td>50000.000000</td>\n",
       "      <td>50000.000000</td>\n",
       "      <td>50000.000000</td>\n",
       "      <td>50000.000000</td>\n",
       "      <td>50000.000000</td>\n",
       "      <td>50000.000000</td>\n",
       "    </tr>\n",
       "    <tr>\n",
       "      <th>mean</th>\n",
       "      <td>11.364171</td>\n",
       "      <td>-72.509756</td>\n",
       "      <td>39.933759</td>\n",
       "      <td>-72.504616</td>\n",
       "      <td>39.926251</td>\n",
       "      <td>1.667840</td>\n",
       "    </tr>\n",
       "    <tr>\n",
       "      <th>std</th>\n",
       "      <td>9.685557</td>\n",
       "      <td>10.393860</td>\n",
       "      <td>6.224857</td>\n",
       "      <td>10.407570</td>\n",
       "      <td>6.014737</td>\n",
       "      <td>1.289195</td>\n",
       "    </tr>\n",
       "    <tr>\n",
       "      <th>min</th>\n",
       "      <td>-5.000000</td>\n",
       "      <td>-75.423848</td>\n",
       "      <td>-74.006893</td>\n",
       "      <td>-84.654241</td>\n",
       "      <td>-74.006377</td>\n",
       "      <td>0.000000</td>\n",
       "    </tr>\n",
       "    <tr>\n",
       "      <th>25%</th>\n",
       "      <td>6.000000</td>\n",
       "      <td>-73.992062</td>\n",
       "      <td>40.734880</td>\n",
       "      <td>-73.991152</td>\n",
       "      <td>40.734372</td>\n",
       "      <td>1.000000</td>\n",
       "    </tr>\n",
       "    <tr>\n",
       "      <th>50%</th>\n",
       "      <td>8.500000</td>\n",
       "      <td>-73.981840</td>\n",
       "      <td>40.752678</td>\n",
       "      <td>-73.980082</td>\n",
       "      <td>40.753372</td>\n",
       "      <td>1.000000</td>\n",
       "    </tr>\n",
       "    <tr>\n",
       "      <th>75%</th>\n",
       "      <td>12.500000</td>\n",
       "      <td>-73.967148</td>\n",
       "      <td>40.767360</td>\n",
       "      <td>-73.963584</td>\n",
       "      <td>40.768167</td>\n",
       "      <td>2.000000</td>\n",
       "    </tr>\n",
       "    <tr>\n",
       "      <th>max</th>\n",
       "      <td>200.000000</td>\n",
       "      <td>40.783472</td>\n",
       "      <td>401.083332</td>\n",
       "      <td>40.851027</td>\n",
       "      <td>43.415190</td>\n",
       "      <td>6.000000</td>\n",
       "    </tr>\n",
       "  </tbody>\n",
       "</table>\n",
       "</div>"
      ],
      "text/plain": [
       "             amount  longitude_of_pickup  latitude_of_pickup  \\\n",
       "count  50000.000000         50000.000000        50000.000000   \n",
       "mean      11.364171           -72.509756           39.933759   \n",
       "std        9.685557            10.393860            6.224857   \n",
       "min       -5.000000           -75.423848          -74.006893   \n",
       "25%        6.000000           -73.992062           40.734880   \n",
       "50%        8.500000           -73.981840           40.752678   \n",
       "75%       12.500000           -73.967148           40.767360   \n",
       "max      200.000000            40.783472          401.083332   \n",
       "\n",
       "       longitude_of_dropoff  latitude_of_dropoff  no_of_passenger  \n",
       "count          50000.000000         50000.000000     50000.000000  \n",
       "mean             -72.504616            39.926251         1.667840  \n",
       "std               10.407570             6.014737         1.289195  \n",
       "min              -84.654241           -74.006377         0.000000  \n",
       "25%              -73.991152            40.734372         1.000000  \n",
       "50%              -73.980082            40.753372         1.000000  \n",
       "75%              -73.963584            40.768167         2.000000  \n",
       "max               40.851027            43.415190         6.000000  "
      ]
     },
     "execution_count": 168,
     "metadata": {},
     "output_type": "execute_result"
    }
   ],
   "source": [
    "df.describe()"
   ]
  },
  {
   "cell_type": "code",
   "execution_count": 169,
   "id": "5b54feca",
   "metadata": {},
   "outputs": [
    {
     "data": {
      "text/plain": [
       "amount                  float64\n",
       "longitude_of_pickup     float64\n",
       "latitude_of_pickup      float64\n",
       "longitude_of_dropoff    float64\n",
       "latitude_of_dropoff     float64\n",
       "no_of_passenger           int64\n",
       "dtype: object"
      ]
     },
     "execution_count": 169,
     "metadata": {},
     "output_type": "execute_result"
    }
   ],
   "source": [
    "df.dtypes"
   ]
  },
  {
   "cell_type": "code",
   "execution_count": 170,
   "id": "3a67fad8",
   "metadata": {},
   "outputs": [],
   "source": [
    "df = df.replace(0, np.NaN)"
   ]
  },
  {
   "cell_type": "code",
   "execution_count": 171,
   "id": "c5c8dd68",
   "metadata": {},
   "outputs": [
    {
     "data": {
      "text/html": [
       "<div>\n",
       "<style scoped>\n",
       "    .dataframe tbody tr th:only-of-type {\n",
       "        vertical-align: middle;\n",
       "    }\n",
       "\n",
       "    .dataframe tbody tr th {\n",
       "        vertical-align: top;\n",
       "    }\n",
       "\n",
       "    .dataframe thead th {\n",
       "        text-align: right;\n",
       "    }\n",
       "</style>\n",
       "<table border=\"1\" class=\"dataframe\">\n",
       "  <thead>\n",
       "    <tr style=\"text-align: right;\">\n",
       "      <th></th>\n",
       "      <th>amount</th>\n",
       "      <th>longitude_of_pickup</th>\n",
       "      <th>latitude_of_pickup</th>\n",
       "      <th>longitude_of_dropoff</th>\n",
       "      <th>latitude_of_dropoff</th>\n",
       "      <th>no_of_passenger</th>\n",
       "    </tr>\n",
       "  </thead>\n",
       "  <tbody>\n",
       "    <tr>\n",
       "      <th>0</th>\n",
       "      <td>4.5</td>\n",
       "      <td>-73.844311</td>\n",
       "      <td>40.721319</td>\n",
       "      <td>-73.841610</td>\n",
       "      <td>40.712278</td>\n",
       "      <td>1.0</td>\n",
       "    </tr>\n",
       "    <tr>\n",
       "      <th>1</th>\n",
       "      <td>16.9</td>\n",
       "      <td>-74.016048</td>\n",
       "      <td>40.711303</td>\n",
       "      <td>-73.979268</td>\n",
       "      <td>40.782004</td>\n",
       "      <td>1.0</td>\n",
       "    </tr>\n",
       "    <tr>\n",
       "      <th>2</th>\n",
       "      <td>5.7</td>\n",
       "      <td>-73.982738</td>\n",
       "      <td>40.761270</td>\n",
       "      <td>-73.991242</td>\n",
       "      <td>40.750562</td>\n",
       "      <td>2.0</td>\n",
       "    </tr>\n",
       "    <tr>\n",
       "      <th>3</th>\n",
       "      <td>7.7</td>\n",
       "      <td>-73.987130</td>\n",
       "      <td>40.733143</td>\n",
       "      <td>-73.991567</td>\n",
       "      <td>40.758092</td>\n",
       "      <td>1.0</td>\n",
       "    </tr>\n",
       "    <tr>\n",
       "      <th>4</th>\n",
       "      <td>5.3</td>\n",
       "      <td>-73.968095</td>\n",
       "      <td>40.768008</td>\n",
       "      <td>-73.956655</td>\n",
       "      <td>40.783762</td>\n",
       "      <td>1.0</td>\n",
       "    </tr>\n",
       "    <tr>\n",
       "      <th>5</th>\n",
       "      <td>12.1</td>\n",
       "      <td>-74.000964</td>\n",
       "      <td>40.731630</td>\n",
       "      <td>-73.972892</td>\n",
       "      <td>40.758233</td>\n",
       "      <td>1.0</td>\n",
       "    </tr>\n",
       "    <tr>\n",
       "      <th>6</th>\n",
       "      <td>7.5</td>\n",
       "      <td>-73.980002</td>\n",
       "      <td>40.751662</td>\n",
       "      <td>-73.973802</td>\n",
       "      <td>40.764842</td>\n",
       "      <td>1.0</td>\n",
       "    </tr>\n",
       "    <tr>\n",
       "      <th>7</th>\n",
       "      <td>16.5</td>\n",
       "      <td>-73.951300</td>\n",
       "      <td>40.774138</td>\n",
       "      <td>-73.990095</td>\n",
       "      <td>40.751048</td>\n",
       "      <td>1.0</td>\n",
       "    </tr>\n",
       "    <tr>\n",
       "      <th>8</th>\n",
       "      <td>9.0</td>\n",
       "      <td>-74.006462</td>\n",
       "      <td>40.726713</td>\n",
       "      <td>-73.993078</td>\n",
       "      <td>40.731628</td>\n",
       "      <td>1.0</td>\n",
       "    </tr>\n",
       "    <tr>\n",
       "      <th>9</th>\n",
       "      <td>8.9</td>\n",
       "      <td>-73.980658</td>\n",
       "      <td>40.733873</td>\n",
       "      <td>-73.991540</td>\n",
       "      <td>40.758138</td>\n",
       "      <td>2.0</td>\n",
       "    </tr>\n",
       "    <tr>\n",
       "      <th>10</th>\n",
       "      <td>5.3</td>\n",
       "      <td>-73.996335</td>\n",
       "      <td>40.737142</td>\n",
       "      <td>-73.980721</td>\n",
       "      <td>40.733559</td>\n",
       "      <td>1.0</td>\n",
       "    </tr>\n",
       "    <tr>\n",
       "      <th>11</th>\n",
       "      <td>5.5</td>\n",
       "      <td>NaN</td>\n",
       "      <td>NaN</td>\n",
       "      <td>NaN</td>\n",
       "      <td>NaN</td>\n",
       "      <td>3.0</td>\n",
       "    </tr>\n",
       "    <tr>\n",
       "      <th>12</th>\n",
       "      <td>4.1</td>\n",
       "      <td>-73.991601</td>\n",
       "      <td>40.744712</td>\n",
       "      <td>-73.983081</td>\n",
       "      <td>40.744682</td>\n",
       "      <td>2.0</td>\n",
       "    </tr>\n",
       "    <tr>\n",
       "      <th>13</th>\n",
       "      <td>7.0</td>\n",
       "      <td>-74.005360</td>\n",
       "      <td>40.728867</td>\n",
       "      <td>-74.008913</td>\n",
       "      <td>40.710907</td>\n",
       "      <td>1.0</td>\n",
       "    </tr>\n",
       "    <tr>\n",
       "      <th>14</th>\n",
       "      <td>7.7</td>\n",
       "      <td>-74.001821</td>\n",
       "      <td>40.737547</td>\n",
       "      <td>-73.998060</td>\n",
       "      <td>40.722788</td>\n",
       "      <td>2.0</td>\n",
       "    </tr>\n",
       "  </tbody>\n",
       "</table>\n",
       "</div>"
      ],
      "text/plain": [
       "    amount  longitude_of_pickup  latitude_of_pickup  longitude_of_dropoff  \\\n",
       "0      4.5           -73.844311           40.721319            -73.841610   \n",
       "1     16.9           -74.016048           40.711303            -73.979268   \n",
       "2      5.7           -73.982738           40.761270            -73.991242   \n",
       "3      7.7           -73.987130           40.733143            -73.991567   \n",
       "4      5.3           -73.968095           40.768008            -73.956655   \n",
       "5     12.1           -74.000964           40.731630            -73.972892   \n",
       "6      7.5           -73.980002           40.751662            -73.973802   \n",
       "7     16.5           -73.951300           40.774138            -73.990095   \n",
       "8      9.0           -74.006462           40.726713            -73.993078   \n",
       "9      8.9           -73.980658           40.733873            -73.991540   \n",
       "10     5.3           -73.996335           40.737142            -73.980721   \n",
       "11     5.5                  NaN                 NaN                   NaN   \n",
       "12     4.1           -73.991601           40.744712            -73.983081   \n",
       "13     7.0           -74.005360           40.728867            -74.008913   \n",
       "14     7.7           -74.001821           40.737547            -73.998060   \n",
       "\n",
       "    latitude_of_dropoff  no_of_passenger  \n",
       "0             40.712278              1.0  \n",
       "1             40.782004              1.0  \n",
       "2             40.750562              2.0  \n",
       "3             40.758092              1.0  \n",
       "4             40.783762              1.0  \n",
       "5             40.758233              1.0  \n",
       "6             40.764842              1.0  \n",
       "7             40.751048              1.0  \n",
       "8             40.731628              1.0  \n",
       "9             40.758138              2.0  \n",
       "10            40.733559              1.0  \n",
       "11                  NaN              3.0  \n",
       "12            40.744682              2.0  \n",
       "13            40.710907              1.0  \n",
       "14            40.722788              2.0  "
      ]
     },
     "execution_count": 171,
     "metadata": {},
     "output_type": "execute_result"
    }
   ],
   "source": [
    "df.head(15)"
   ]
  },
  {
   "cell_type": "code",
   "execution_count": 172,
   "id": "199408a9",
   "metadata": {},
   "outputs": [
    {
     "data": {
      "text/plain": [
       "amount                  11.364853\n",
       "longitude_of_pickup    -73.921659\n",
       "latitude_of_pickup      40.711346\n",
       "longitude_of_dropoff   -73.920941\n",
       "latitude_of_dropoff     40.703692\n",
       "no_of_passenger          1.673362\n",
       "dtype: float64"
      ]
     },
     "execution_count": 172,
     "metadata": {},
     "output_type": "execute_result"
    }
   ],
   "source": [
    "df.mean()"
   ]
  },
  {
   "cell_type": "code",
   "execution_count": 173,
   "id": "2a33f5bf",
   "metadata": {},
   "outputs": [
    {
     "data": {
      "text/html": [
       "<div>\n",
       "<style scoped>\n",
       "    .dataframe tbody tr th:only-of-type {\n",
       "        vertical-align: middle;\n",
       "    }\n",
       "\n",
       "    .dataframe tbody tr th {\n",
       "        vertical-align: top;\n",
       "    }\n",
       "\n",
       "    .dataframe thead th {\n",
       "        text-align: right;\n",
       "    }\n",
       "</style>\n",
       "<table border=\"1\" class=\"dataframe\">\n",
       "  <thead>\n",
       "    <tr style=\"text-align: right;\">\n",
       "      <th></th>\n",
       "      <th>amount</th>\n",
       "      <th>longitude_of_pickup</th>\n",
       "      <th>latitude_of_pickup</th>\n",
       "      <th>longitude_of_dropoff</th>\n",
       "      <th>latitude_of_dropoff</th>\n",
       "      <th>no_of_passenger</th>\n",
       "    </tr>\n",
       "  </thead>\n",
       "  <tbody>\n",
       "    <tr>\n",
       "      <th>0</th>\n",
       "      <td>4.5</td>\n",
       "      <td>-73.844311</td>\n",
       "      <td>40.721319</td>\n",
       "      <td>-73.841610</td>\n",
       "      <td>40.712278</td>\n",
       "      <td>1.0</td>\n",
       "    </tr>\n",
       "    <tr>\n",
       "      <th>1</th>\n",
       "      <td>16.9</td>\n",
       "      <td>-74.016048</td>\n",
       "      <td>40.711303</td>\n",
       "      <td>-73.979268</td>\n",
       "      <td>40.782004</td>\n",
       "      <td>1.0</td>\n",
       "    </tr>\n",
       "    <tr>\n",
       "      <th>2</th>\n",
       "      <td>5.7</td>\n",
       "      <td>-73.982738</td>\n",
       "      <td>40.761270</td>\n",
       "      <td>-73.991242</td>\n",
       "      <td>40.750562</td>\n",
       "      <td>2.0</td>\n",
       "    </tr>\n",
       "    <tr>\n",
       "      <th>3</th>\n",
       "      <td>7.7</td>\n",
       "      <td>-73.987130</td>\n",
       "      <td>40.733143</td>\n",
       "      <td>-73.991567</td>\n",
       "      <td>40.758092</td>\n",
       "      <td>1.0</td>\n",
       "    </tr>\n",
       "    <tr>\n",
       "      <th>4</th>\n",
       "      <td>5.3</td>\n",
       "      <td>-73.968095</td>\n",
       "      <td>40.768008</td>\n",
       "      <td>-73.956655</td>\n",
       "      <td>40.783762</td>\n",
       "      <td>1.0</td>\n",
       "    </tr>\n",
       "    <tr>\n",
       "      <th>5</th>\n",
       "      <td>12.1</td>\n",
       "      <td>-74.000964</td>\n",
       "      <td>40.731630</td>\n",
       "      <td>-73.972892</td>\n",
       "      <td>40.758233</td>\n",
       "      <td>1.0</td>\n",
       "    </tr>\n",
       "    <tr>\n",
       "      <th>6</th>\n",
       "      <td>7.5</td>\n",
       "      <td>-73.980002</td>\n",
       "      <td>40.751662</td>\n",
       "      <td>-73.973802</td>\n",
       "      <td>40.764842</td>\n",
       "      <td>1.0</td>\n",
       "    </tr>\n",
       "    <tr>\n",
       "      <th>7</th>\n",
       "      <td>16.5</td>\n",
       "      <td>-73.951300</td>\n",
       "      <td>40.774138</td>\n",
       "      <td>-73.990095</td>\n",
       "      <td>40.751048</td>\n",
       "      <td>1.0</td>\n",
       "    </tr>\n",
       "    <tr>\n",
       "      <th>8</th>\n",
       "      <td>9.0</td>\n",
       "      <td>-74.006462</td>\n",
       "      <td>40.726713</td>\n",
       "      <td>-73.993078</td>\n",
       "      <td>40.731628</td>\n",
       "      <td>1.0</td>\n",
       "    </tr>\n",
       "    <tr>\n",
       "      <th>9</th>\n",
       "      <td>8.9</td>\n",
       "      <td>-73.980658</td>\n",
       "      <td>40.733873</td>\n",
       "      <td>-73.991540</td>\n",
       "      <td>40.758138</td>\n",
       "      <td>2.0</td>\n",
       "    </tr>\n",
       "    <tr>\n",
       "      <th>10</th>\n",
       "      <td>5.3</td>\n",
       "      <td>-73.996335</td>\n",
       "      <td>40.737142</td>\n",
       "      <td>-73.980721</td>\n",
       "      <td>40.733559</td>\n",
       "      <td>1.0</td>\n",
       "    </tr>\n",
       "    <tr>\n",
       "      <th>11</th>\n",
       "      <td>5.5</td>\n",
       "      <td>-73.921659</td>\n",
       "      <td>40.711346</td>\n",
       "      <td>-73.920941</td>\n",
       "      <td>40.703692</td>\n",
       "      <td>3.0</td>\n",
       "    </tr>\n",
       "    <tr>\n",
       "      <th>12</th>\n",
       "      <td>4.1</td>\n",
       "      <td>-73.991601</td>\n",
       "      <td>40.744712</td>\n",
       "      <td>-73.983081</td>\n",
       "      <td>40.744682</td>\n",
       "      <td>2.0</td>\n",
       "    </tr>\n",
       "    <tr>\n",
       "      <th>13</th>\n",
       "      <td>7.0</td>\n",
       "      <td>-74.005360</td>\n",
       "      <td>40.728867</td>\n",
       "      <td>-74.008913</td>\n",
       "      <td>40.710907</td>\n",
       "      <td>1.0</td>\n",
       "    </tr>\n",
       "    <tr>\n",
       "      <th>14</th>\n",
       "      <td>7.7</td>\n",
       "      <td>-74.001821</td>\n",
       "      <td>40.737547</td>\n",
       "      <td>-73.998060</td>\n",
       "      <td>40.722788</td>\n",
       "      <td>2.0</td>\n",
       "    </tr>\n",
       "  </tbody>\n",
       "</table>\n",
       "</div>"
      ],
      "text/plain": [
       "    amount  longitude_of_pickup  latitude_of_pickup  longitude_of_dropoff  \\\n",
       "0      4.5           -73.844311           40.721319            -73.841610   \n",
       "1     16.9           -74.016048           40.711303            -73.979268   \n",
       "2      5.7           -73.982738           40.761270            -73.991242   \n",
       "3      7.7           -73.987130           40.733143            -73.991567   \n",
       "4      5.3           -73.968095           40.768008            -73.956655   \n",
       "5     12.1           -74.000964           40.731630            -73.972892   \n",
       "6      7.5           -73.980002           40.751662            -73.973802   \n",
       "7     16.5           -73.951300           40.774138            -73.990095   \n",
       "8      9.0           -74.006462           40.726713            -73.993078   \n",
       "9      8.9           -73.980658           40.733873            -73.991540   \n",
       "10     5.3           -73.996335           40.737142            -73.980721   \n",
       "11     5.5           -73.921659           40.711346            -73.920941   \n",
       "12     4.1           -73.991601           40.744712            -73.983081   \n",
       "13     7.0           -74.005360           40.728867            -74.008913   \n",
       "14     7.7           -74.001821           40.737547            -73.998060   \n",
       "\n",
       "    latitude_of_dropoff  no_of_passenger  \n",
       "0             40.712278              1.0  \n",
       "1             40.782004              1.0  \n",
       "2             40.750562              2.0  \n",
       "3             40.758092              1.0  \n",
       "4             40.783762              1.0  \n",
       "5             40.758233              1.0  \n",
       "6             40.764842              1.0  \n",
       "7             40.751048              1.0  \n",
       "8             40.731628              1.0  \n",
       "9             40.758138              2.0  \n",
       "10            40.733559              1.0  \n",
       "11            40.703692              3.0  \n",
       "12            40.744682              2.0  \n",
       "13            40.710907              1.0  \n",
       "14            40.722788              2.0  "
      ]
     },
     "execution_count": 173,
     "metadata": {},
     "output_type": "execute_result"
    }
   ],
   "source": [
    "for columns in df:\n",
    "    df[columns] = df[columns].fillna(df[columns].mean())\n",
    "df.head(15)"
   ]
  },
  {
   "cell_type": "code",
   "execution_count": 174,
   "id": "7bc670be",
   "metadata": {},
   "outputs": [],
   "source": [
    "# df['longitude_of_pickup'] = df['longitude_of_pickup'].fillna(df['longitude_of_pickup'].mean())\n",
    "# df['latitude_of_pickup'] = df['latitude_of_pickup'].fillna(df['latitude_of_pickup'].mean())\n",
    "# df['longitude_of_dropoff'] = df['longitude_of_dropoff'].fillna(df['longitude_of_dropoff'].mean())\n",
    "# df['latitude_of_dropoff'] = df['latitude_of_dropoff'].fillna(df['latitude_of_dropoff'].mean())\n",
    "# df['amount'] = df['amount'].fillna(df['amount'].mean())\n",
    "# df['no_of_passenger'] = df['no_of_passenger'].fillna(df['no_of_passenger'].mean())\n",
    "# df.head(15)"
   ]
  },
  {
   "cell_type": "markdown",
   "id": "1627a06f",
   "metadata": {},
   "source": [
    "## Normalization"
   ]
  },
  {
   "cell_type": "code",
   "execution_count": 175,
   "id": "ea39367e",
   "metadata": {},
   "outputs": [],
   "source": [
    "df['amount']=(df['amount'] - df['amount'].min())/(df['amount'].max() - df['amount'].min())"
   ]
  },
  {
   "cell_type": "markdown",
   "id": "173a9dc2",
   "metadata": {},
   "source": [
    "## Removing outliers"
   ]
  },
  {
   "cell_type": "code",
   "execution_count": 176,
   "id": "ad64cb4c",
   "metadata": {},
   "outputs": [],
   "source": [
    "def remove_outlier(df_in):\n",
    "    for i in df_in.columns:\n",
    "        q1 = df_in[i].quantile(0.25)\n",
    "        q3 = df_in[i].quantile(0.75)\n",
    "        iqr = q3-q1 #Interquartile range\n",
    "        fence_low  = q1-1.5*iqr\n",
    "        fence_high = q3+1.5*iqr\n",
    "        df_out = df_in.loc[(df_in[i] > fence_low) & (df_in[i] < fence_high)]\n",
    "    return df_out"
   ]
  },
  {
   "cell_type": "code",
   "execution_count": 177,
   "id": "a63c3a91",
   "metadata": {},
   "outputs": [],
   "source": [
    "df=remove_outlier(df)"
   ]
  },
  {
   "cell_type": "code",
   "execution_count": 178,
   "id": "f217d826",
   "metadata": {},
   "outputs": [
    {
     "data": {
      "text/plain": [
       "(44542, 6)"
      ]
     },
     "execution_count": 178,
     "metadata": {},
     "output_type": "execute_result"
    }
   ],
   "source": [
    "df.shape"
   ]
  },
  {
   "cell_type": "markdown",
   "id": "0ba242bb",
   "metadata": {},
   "source": [
    "## Spliting data "
   ]
  },
  {
   "cell_type": "code",
   "execution_count": 179,
   "id": "3d8680ac",
   "metadata": {},
   "outputs": [],
   "source": [
    "X = df.drop(['amount'], axis=1)\n",
    "y = df[['amount']]"
   ]
  },
  {
   "cell_type": "code",
   "execution_count": 180,
   "id": "8e42df24",
   "metadata": {},
   "outputs": [],
   "source": [
    "X_train, X_test, y_train, y_test = train_test_split(X, y, test_size=0.30,random_state=1)"
   ]
  },
  {
   "cell_type": "markdown",
   "id": "7f97b7f0",
   "metadata": {},
   "source": [
    "## Fit linear model\n"
   ]
  },
  {
   "cell_type": "code",
   "execution_count": 181,
   "id": "ddb79ef4",
   "metadata": {},
   "outputs": [
    {
     "data": {
      "text/plain": [
       "LinearRegression()"
      ]
     },
     "execution_count": 181,
     "metadata": {},
     "output_type": "execute_result"
    }
   ],
   "source": [
    "reg_model = LinearRegression()\n",
    "reg_model.fit(X_train, y_train)"
   ]
  },
  {
   "cell_type": "code",
   "execution_count": 182,
   "id": "0966e5d4",
   "metadata": {},
   "outputs": [
    {
     "data": {
      "text/plain": [
       "0.000662448956375572"
      ]
     },
     "execution_count": 182,
     "metadata": {},
     "output_type": "execute_result"
    }
   ],
   "source": [
    "reg_model.score(X_train, y_train)"
   ]
  },
  {
   "cell_type": "code",
   "execution_count": 183,
   "id": "9ef8125f",
   "metadata": {},
   "outputs": [
    {
     "data": {
      "text/plain": [
       "-0.0013663471838476493"
      ]
     },
     "execution_count": 183,
     "metadata": {},
     "output_type": "execute_result"
    }
   ],
   "source": [
    "reg_model.score(X_test, y_test)"
   ]
  },
  {
   "cell_type": "markdown",
   "id": "f50126e5",
   "metadata": {},
   "source": [
    "## Using Decision tree"
   ]
  },
  {
   "cell_type": "code",
   "execution_count": 184,
   "id": "d43ba0b3",
   "metadata": {},
   "outputs": [],
   "source": [
    "from sklearn.tree import DecisionTreeRegressor"
   ]
  },
  {
   "cell_type": "code",
   "execution_count": 185,
   "id": "9447df2f",
   "metadata": {},
   "outputs": [],
   "source": [
    "model=DecisionTreeRegressor(criterion=\"squared_error\",max_depth=6)"
   ]
  },
  {
   "cell_type": "code",
   "execution_count": 186,
   "id": "df4a9fdb",
   "metadata": {},
   "outputs": [
    {
     "data": {
      "text/plain": [
       "DecisionTreeRegressor(max_depth=6)"
      ]
     },
     "execution_count": 186,
     "metadata": {},
     "output_type": "execute_result"
    }
   ],
   "source": [
    "model.fit(X_train,y_train)"
   ]
  },
  {
   "cell_type": "code",
   "execution_count": 187,
   "id": "9e7d54b6",
   "metadata": {},
   "outputs": [
    {
     "data": {
      "text/plain": [
       "0.6545700916004173"
      ]
     },
     "execution_count": 187,
     "metadata": {},
     "output_type": "execute_result"
    }
   ],
   "source": [
    "model.score(X_train,y_train)"
   ]
  },
  {
   "cell_type": "code",
   "execution_count": 188,
   "id": "5add8ea7",
   "metadata": {},
   "outputs": [
    {
     "data": {
      "text/plain": [
       "0.6117424866389254"
      ]
     },
     "execution_count": 188,
     "metadata": {},
     "output_type": "execute_result"
    }
   ],
   "source": [
    "model.score(X_test,y_test)"
   ]
  },
  {
   "cell_type": "markdown",
   "id": "dc6c7481",
   "metadata": {},
   "source": [
    "## Using KNN"
   ]
  },
  {
   "cell_type": "code",
   "execution_count": 189,
   "id": "383e75f9",
   "metadata": {},
   "outputs": [],
   "source": [
    "from sklearn.neighbors import KNeighborsRegressor"
   ]
  },
  {
   "cell_type": "code",
   "execution_count": 190,
   "id": "77e82571",
   "metadata": {},
   "outputs": [],
   "source": [
    "knn_model = KNeighborsRegressor(n_neighbors=8)"
   ]
  },
  {
   "cell_type": "code",
   "execution_count": 191,
   "id": "9d38565f",
   "metadata": {},
   "outputs": [
    {
     "data": {
      "text/plain": [
       "KNeighborsRegressor(n_neighbors=8)"
      ]
     },
     "execution_count": 191,
     "metadata": {},
     "output_type": "execute_result"
    }
   ],
   "source": [
    "knn_model.fit(X_train,y_train)"
   ]
  },
  {
   "cell_type": "code",
   "execution_count": 192,
   "id": "ce10f4a9",
   "metadata": {},
   "outputs": [
    {
     "data": {
      "text/plain": [
       "0.7851806993504471"
      ]
     },
     "execution_count": 192,
     "metadata": {},
     "output_type": "execute_result"
    }
   ],
   "source": [
    "knn_model.score(X_train,y_train)"
   ]
  },
  {
   "cell_type": "code",
   "execution_count": 193,
   "id": "7a14f229",
   "metadata": {},
   "outputs": [
    {
     "data": {
      "text/plain": [
       "0.7433010292421363"
      ]
     },
     "execution_count": 193,
     "metadata": {},
     "output_type": "execute_result"
    }
   ],
   "source": [
    "knn_model.score(X_test,y_test)"
   ]
  }
 ],
 "metadata": {
  "kernelspec": {
   "display_name": "Python 3 (ipykernel)",
   "language": "python",
   "name": "python3"
  },
  "language_info": {
   "codemirror_mode": {
    "name": "ipython",
    "version": 3
   },
   "file_extension": ".py",
   "mimetype": "text/x-python",
   "name": "python",
   "nbconvert_exporter": "python",
   "pygments_lexer": "ipython3",
   "version": "3.9.12"
  }
 },
 "nbformat": 4,
 "nbformat_minor": 5
}
